{
 "cells": [
  {
   "cell_type": "markdown",
   "metadata": {},
   "source": [
    "# Converting Raw and Result Data to Matlab\n",
    "\n",
    "6/1/19: Need to convert raw and resulting data to matlab.\n",
    "\n",
    "* raw.fif + .json -> .mat file\n",
    "* raw.npz + .json -> .mat file\n",
    "\n",
    "Here, I want to allow for cross-platform data compatability to allow for easy computing on either platforms.\n",
    "\n",
    "The goal will be to test a variety of possible algorithms developed in matlab such as:\n",
    "\n",
    "1. TVART\n",
    "2. MR.SID"
   ]
  },
  {
   "cell_type": "code",
   "execution_count": 1,
   "metadata": {},
   "outputs": [],
   "source": [
    "import os\n",
    "import sys\n",
    "import numpy as np\n",
    "import scipy.io\n",
    "\n",
    "%matplotlib inline\n",
    "import matplotlib\n",
    "import seaborn as sns\n",
    "import matplotlib.pyplot as plt\n",
    "from pprint import pprint\n",
    "\n",
    "sys.path.append(\"../../\")\n",
    "from eztrack.edp.loaders.patient.subjectresultsloader import SubjectResultsLoader\n",
    "from eztrack.edp.loaders.dataset.result.resultloader import ResultLoader\n",
    "from eztrack.edp.loaders.dataset.timeseries.ieegrecording import iEEGRecording\n",
    "from eztrack.edp.loaders.dataset.timeseries.scalprecording import ScalpRecording\n",
    "\n",
    "\n",
    "# Import magic commands for jupyter notebook \n",
    "%load_ext autoreload\n",
    "%autoreload 2"
   ]
  },
  {
   "cell_type": "markdown",
   "metadata": {},
   "source": [
    "# Set Data Directories\n",
    "\n",
    "Note here that resultsdir is somehow organized, but it doesn't have to be as long as the datafiles are within resultsdir/"
   ]
  },
  {
   "cell_type": "code",
   "execution_count": 2,
   "metadata": {},
   "outputs": [],
   "source": [
    "center = 'nih'\n",
    "reference = 'common_avg'\n",
    "modality = 'ieeg'\n",
    "patid = 'pt1'\n",
    "datasetid = \"sz_2\"\n",
    "\n",
    "DATADIR = '/Users/adam2392/Downloads/output_new/'\n",
    "\n",
    "rawdatadir = f\"/Users/adam2392/Downloads/tngpipeline/{center}/{patid}/seeg/fif/\"\n",
    "resultsdir = os.path.join(DATADIR,\n",
    "                          'fragility',\n",
    "                          reference,\n",
    "                          modality, \n",
    "                          center)\n",
    "\n",
    "jsonfilepath = f\"{patid}_{datasetid}.json\"\n",
    "resultjsonfile = f\"{patid}_{datasetid}_frag.json\""
   ]
  },
  {
   "cell_type": "markdown",
   "metadata": {},
   "source": [
    "### Dataset"
   ]
  },
  {
   "cell_type": "code",
   "execution_count": 3,
   "metadata": {},
   "outputs": [
    {
     "name": "stdout",
     "output_type": "stream",
     "text": [
      "Loading results data from:  /Users/adam2392/Downloads/output_new/fragility/common_avg/ieeg/nih/pt1_sz_2_fragmodel.npz\n",
      "Finished loading in data for this patient\n"
     ]
    }
   ],
   "source": [
    "datasetloader = ResultLoader(jsonfilepath=os.path.join(resultsdir, resultjsonfile),\n",
    "                            preload=True,\n",
    "                            datatype='frag',\n",
    "                            results_dir=resultsdir)\n",
    "\n",
    "print(\"Finished loading in data for this patient\")"
   ]
  },
  {
   "cell_type": "code",
   "execution_count": 4,
   "metadata": {},
   "outputs": [
    {
     "name": "stdout",
     "output_type": "stream",
     "text": [
      "These are all the datasets: \n",
      " pt1 sz_2 Fragility Model (86, 2151)\n"
     ]
    }
   ],
   "source": [
    "print(\"These are all the datasets: \\n\", datasetloader.result)"
   ]
  },
  {
   "cell_type": "code",
   "execution_count": 3,
   "metadata": {},
   "outputs": [
    {
     "name": "stdout",
     "output_type": "stream",
     "text": [
      "/Users/adam2392/Downloads/tngpipeline/nih/pt1/seeg/fif/\n",
      "reference is  common_avg\n",
      "['pt1_ii_1.json', 'pt1_ii_2.json', 'pt1_sz_2.json', 'pt1_sz_3.json', 'pt1_sz_4.json', 'pt1_sz_6.json']\n"
     ]
    }
   ],
   "source": [
    "print(rawdatadir)\n",
    "if modality == 'seeg' or modality == 'ieeg':\n",
    "    loader = iEEGRecording(root_dir=rawdatadir,\n",
    "                      reference=reference)\n",
    "\n",
    "elif modality == 'scalp':\n",
    "    loader = ScalpRecording(root_dir=rawdatadir,\n",
    "                           reference=reference)\n",
    "\n",
    "# select a json filepath to run\n",
    "jsonfilepaths = loader.jsonfilepaths\n",
    "\n",
    "print(jsonfilepaths)"
   ]
  },
  {
   "cell_type": "code",
   "execution_count": 4,
   "metadata": {},
   "outputs": [
    {
     "name": "stdout",
     "output_type": "stream",
     "text": [
      "hard-code setting line freq to 60.\n",
      "Set line frequency as: 60\n",
      "filtering at:  [ 60. 120. 180. 240. 300. 360. 420. 480.]  and  [0.5, 499.0]\n",
      "dict_keys(['ablated_contacts', 'age_surgery', 'bad_channels', 'channeltypes', 'clinical_center', 'clinical_difficulty', 'clinical_match', 'clinical_semiology', 'dataset_id', 'date_of_recording', 'edffilename', 'engel_score', 'equipment', 'events', 'ez_elecs', 'ez_hypo_brainregion', 'ez_hypo_contacts', 'filename', 'gender', 'hand_dominant', 'length_of_recording', 'non_eeg_channels', 'note', 'number_chans', 'onset', 'onset_age', 'outcome', 'patient_id', 'resect_elecs', 'resected_contacts', 'seizure_semiology', 'termination', 'type', 'samplerate', 'chanlabels', 'modality', 'lowpass_freq', 'highpass_freq', 'linefreq', 'onsetsec', 'offsetsec', 'onsetind', 'offsetind', 'reference'])\n",
      "Still has white matter contacts:  (86, 269080)\n",
      "Removed wm contacts:  (86,) (86, 269080)\n",
      "These contacts are identified wm contacts:  []\n",
      "86\n",
      "Removed white matter contacts:  (86, 269080)\n"
     ]
    }
   ],
   "source": [
    "ieegts = loader.loadpipeline(jsonfilepath)"
   ]
  },
  {
   "cell_type": "code",
   "execution_count": 5,
   "metadata": {},
   "outputs": [
    {
     "name": "stdout",
     "output_type": "stream",
     "text": [
      "common_avg\n"
     ]
    }
   ],
   "source": [
    "print(ieegts.reference)"
   ]
  },
  {
   "cell_type": "markdown",
   "metadata": {},
   "source": [
    "# 2. Using the Data\n",
    "\n",
    "Note that the datasets are organized in python classes, so each result loaded is a list of these FragilityModelResult classes. See /edp/base/objects/dataset/result_object.py\n",
    "\n",
    "This class helps user to extract out metadata and reformat data correctly.\n",
    "\n",
    "Note for scalp data, cezinds returns an empty list, while for ieeg, cezlobeinds will return an empty list."
   ]
  },
  {
   "cell_type": "code",
   "execution_count": 6,
   "metadata": {},
   "outputs": [],
   "source": [
    "# assert data is save\n",
    "rawdata = ieegts.get_data()\n",
    "metadata = ieegts.get_metadata()"
   ]
  },
  {
   "cell_type": "code",
   "execution_count": 7,
   "metadata": {},
   "outputs": [
    {
     "name": "stdout",
     "output_type": "stream",
     "text": [
      "(86, 269080)\n",
      "['g1' 'g2' 'g3' 'g4' 'g5' 'g6' 'g7' 'g8' 'g9' 'g10' 'g13' 'g14' 'g15'\n",
      " 'g16' 'g17' 'g18' 'g19' 'g20' 'g21' 'g22' 'g23' 'g11' 'g12' 'g24' 'g25'\n",
      " 'g26' 'g27' 'g28' 'g29' 'g30' 'g31' 'g32' 'att1' 'att2' 'att3' 'att4'\n",
      " 'att5' 'att6' 'att7' 'att8' 'plt1' 'plt2' 'plt3' 'plt4' 'plt5' 'plt6'\n",
      " 'ast1' 'ast2' 'ast3' 'ast4' 'pst1' 'pst2' 'pst3' 'pst4' 'ad1' 'ad2' 'ad3'\n",
      " 'ad4' 'pd1' 'pd2' 'pd3' 'pd4' 'sf1' 'sf2' 'sf3' 'sf4' 'sf5' 'sf6' 'if1'\n",
      " 'if2' 'if3' 'if4' 'if5' 'if6' 'ilt1' 'ilt2' 'ilt3' 'ilt4' 'mlt1' 'mlt2'\n",
      " 'mlt3' 'mlt4' 'slt1' 'slt2' 'slt3' 'slt4']\n"
     ]
    }
   ],
   "source": [
    "print(rawdata.shape)\n",
    "print(ieegts.chanlabels)"
   ]
  },
  {
   "cell_type": "code",
   "execution_count": 9,
   "metadata": {},
   "outputs": [
    {
     "name": "stdout",
     "output_type": "stream",
     "text": [
      "pt1 sz_2 Fragility Model (86, 2151)\n"
     ]
    }
   ],
   "source": [
    "exdataset = datasetloader.result\n",
    "print(exdataset)\n",
    "\n",
    "# compute how to separate channels into their lobes\n",
    "# exdataset.compute_montage_groups()"
   ]
  },
  {
   "cell_type": "code",
   "execution_count": 21,
   "metadata": {},
   "outputs": [
    {
     "name": "stdout",
     "output_type": "stream",
     "text": [
      "(86, 86, 2151) (86, 2151) 86\n"
     ]
    }
   ],
   "source": [
    "ltvmat = exdataset.ltvmodel.get_data()\n",
    "pertmat = exdataset.pertmodel.get_data()\n",
    "\n",
    "print(ltvmat.shape, pertmat.shape, len(metadata['chanlabels']))"
   ]
  },
  {
   "cell_type": "code",
   "execution_count": 10,
   "metadata": {},
   "outputs": [
    {
     "name": "stdout",
     "output_type": "stream",
     "text": [
      "(86, 2151) 86\n"
     ]
    }
   ],
   "source": [
    "# get the fragility matrix\n",
    "fragmat = exdataset.get_data()\n",
    "\n",
    "# get the corresponding channels labels\n",
    "chanlabels = exdataset.chanlabels\n",
    "\n",
    "# get ieeg ez\n",
    "cezcontacts = exdataset.cezcontacts\n",
    "\n",
    "# get lobe\n",
    "# cezlobe = exdataset.cezlobe\n",
    "# get indices of ieeg cez\n",
    "ieegcezinds = exdataset.cezinds\n",
    "# cezinds = exdataset.cezlobeinds\n",
    "\n",
    "print(fragmat.shape, len(chanlabels))\n",
    "\n",
    "# print(cezcontacts, cezlobe, ieegcezinds, cezinds)"
   ]
  },
  {
   "cell_type": "markdown",
   "metadata": {},
   "source": [
    "# 3. Convert Raw/Result Data To Mat Files"
   ]
  },
  {
   "cell_type": "code",
   "execution_count": 17,
   "metadata": {},
   "outputs": [
    {
     "name": "stdout",
     "output_type": "stream",
     "text": [
      "/Users/adam2392/Downloads/tngpipeline/nih/pt1/pt1_sz_2.mat\n",
      "/Users/adam2392/Downloads/tngpipeline/nih/pt1/pt1_sz_2_fragmodel.mat\n"
     ]
    }
   ],
   "source": [
    "rawdatamat_path = os.path.join(f\"/Users/adam2392/Downloads/tngpipeline/{center}/{patid}/\", \n",
    "                               f'{patid}_{datasetid}.mat')\n",
    "\n",
    "resultdatamat_path = os.path.join(f\"/Users/adam2392/Downloads/tngpipeline/{center}/{patid}/\", \n",
    "                               f'{patid}_{datasetid}_fragmodel.mat')\n",
    "\n",
    "print(rawdatamat_path)\n",
    "print(resultdatamat_path)"
   ]
  },
  {
   "cell_type": "code",
   "execution_count": 8,
   "metadata": {},
   "outputs": [
    {
     "name": "stdout",
     "output_type": "stream",
     "text": [
      "Saving rawdata to /Users/adam2392/Downloads/pt1_sz_2_rawdata_cavg.mat\n"
     ]
    }
   ],
   "source": [
    "# save rawdata as .mat file\n",
    "rawdatamat_path = \"/Users/adam2392/Downloads/pt1_sz_2_rawdata_cavg.mat\"\n",
    "print('Saving rawdata to %s' % (rawdatamat_path))\n",
    "scipy.io.savemat(rawdatamat_path, {'rawdata': rawdata,\n",
    "                                   'chlabels': metadata['chanlabels'],\n",
    "                                  }\n",
    "                )"
   ]
  },
  {
   "cell_type": "code",
   "execution_count": 22,
   "metadata": {},
   "outputs": [
    {
     "name": "stdout",
     "output_type": "stream",
     "text": [
      "Saving rawdata to /Users/adam2392/Downloads/tngpipeline/nih/pt1/pt1_sz_2.mat\n"
     ]
    }
   ],
   "source": [
    "# save results as .mat file\n",
    "print('Saving rawdata to %s' % (rawdatamat_path))\n",
    "scipy.io.savemat(rawdatamat_path, {'ltvmat': ltvmat,\n",
    "                                   'pertmat': pertmat,\n",
    "                                   'chlabels': metadata['chanlabels'],\n",
    "                                  }\n",
    "                )"
   ]
  },
  {
   "cell_type": "code",
   "execution_count": null,
   "metadata": {},
   "outputs": [],
   "source": []
  }
 ],
 "metadata": {
  "kernelspec": {
   "display_name": "eztrack",
   "language": "python",
   "name": "eztrack"
  },
  "language_info": {
   "codemirror_mode": {
    "name": "ipython",
    "version": 3
   },
   "file_extension": ".py",
   "mimetype": "text/x-python",
   "name": "python",
   "nbconvert_exporter": "python",
   "pygments_lexer": "ipython3",
   "version": "3.6.7"
  }
 },
 "nbformat": 4,
 "nbformat_minor": 2
}
