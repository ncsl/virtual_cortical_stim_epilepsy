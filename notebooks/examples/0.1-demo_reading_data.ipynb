{
 "cells": [
  {
   "cell_type": "markdown",
   "metadata": {},
   "source": [
    "# Demo of Data I/O for Fragility Epilepsy Using EZTrack EDP\n",
    "\n",
    "Adam Li\n",
    "\n",
    "1/10/19: Here, I want to demonstrate how to load in data based on a directory of either raw data, or computed results at the i) center ii) patient and iii) dataset level.\n",
    "\n",
    "I will extract out the data, and then display."
   ]
  },
  {
   "cell_type": "code",
   "execution_count": 2,
   "metadata": {},
   "outputs": [],
   "source": [
    "import os\n",
    "import sys\n",
    "import numpy as np\n",
    "\n",
    "%matplotlib inline\n",
    "import matplotlib\n",
    "import seaborn as sns\n",
    "import matplotlib.pyplot as plt\n",
    "from pprint import pprint\n",
    "\n",
    "sys.path.append(\"../../\")\n",
    "from eztrack.edp.loaders.centerdata import CenterLoader\n",
    "from eztrack.edp.loaders.patient.subjectresultsloader import SubjectResultsLoader\n",
    "from eztrack.edp.loaders.dataset.result.resultloader import ResultLoader\n",
    "\n",
    "# Import magic commands for jupyter notebook \n",
    "%load_ext autoreload\n",
    "%autoreload 2"
   ]
  },
  {
   "cell_type": "markdown",
   "metadata": {},
   "source": [
    "# Set Data Directories\n",
    "\n",
    "Note here that resultsdir is somehow organized, but it doesn't have to be as long as the datafiles are within resultsdir/"
   ]
  },
  {
   "cell_type": "code",
   "execution_count": 13,
   "metadata": {},
   "outputs": [],
   "source": [
    "center = 'cleveland'\n",
    "reference = 'common_avg'\n",
    "modality = 'scalp_winsize1000'\n",
    "\n",
    "DATADIR = '/Users/adam2392/Downloads/output_new/'\n",
    "resultsdir = os.path.join(DATADIR,\n",
    "                          'freq',\n",
    "                          reference,\n",
    "                          modality, \n",
    "                          center)"
   ]
  },
  {
   "cell_type": "markdown",
   "metadata": {},
   "source": [
    "# Load in Data\n",
    "- Center\n",
    "- Patient\n",
    "- Dataset"
   ]
  },
  {
   "cell_type": "code",
   "execution_count": 14,
   "metadata": {},
   "outputs": [],
   "source": [
    "allpats = ['la04']"
   ]
  },
  {
   "cell_type": "markdown",
   "metadata": {},
   "source": [
    "### Center"
   ]
  },
  {
   "cell_type": "code",
   "execution_count": 15,
   "metadata": {},
   "outputs": [
    {
     "name": "stdout",
     "output_type": "stream",
     "text": [
      "Already renamed seeg.xyz\n",
      "Already renamed gain.mat\n",
      "Already renamed seeg.xyz\n",
      "Already renamed gain.mat\n",
      "Found 6 jsonfilepaths for la04\n",
      "Loading results data from:  /Users/adam2392/Downloads/output_new/freq/common_avg/scalp_winsize1000/cleveland/la04_scalp_sz_1p_freqmodel.npz\n",
      "Loading results data from:  /Users/adam2392/Downloads/output_new/freq/common_avg/scalp_winsize1000/cleveland/la04_scalp_sz_2p_freqmodel.npz\n",
      "Loading results data from:  /Users/adam2392/Downloads/output_new/freq/common_avg/scalp_winsize1000/cleveland/la04_scalp_sz_3p_freqmodel.npz\n",
      "Loading results data from:  /Users/adam2392/Downloads/output_new/freq/common_avg/scalp_winsize1000/cleveland/la04_scalp_sz_4p_freqmodel.npz\n",
      "Loading results data from:  /Users/adam2392/Downloads/output_new/freq/common_avg/scalp_winsize1000/cleveland/la04_scalp_sz_5p_freqmodel.npz\n",
      "Loading results data from:  /Users/adam2392/Downloads/output_new/freq/common_avg/scalp_winsize1000/cleveland/la04_scalp_sz_6p_freqmodel.npz\n",
      "[2.0, 2.0, 2.0, 2.0, 2.0, 2.0]\n",
      "[4.0, 4.0, 4.0, 4.0, 4.0, 4.0]\n",
      "Finished loading in data for this center for ['la04']\n"
     ]
    }
   ],
   "source": [
    "centerloader = CenterLoader(centername=center, \n",
    "                            subjids=allpats,\n",
    "                            preload=True,\n",
    "                            datatype='freq',\n",
    "                            root_dir=resultsdir)\n",
    "\n",
    "print(\"Finished loading in data for this center for {}\".format(allpats))"
   ]
  },
  {
   "cell_type": "code",
   "execution_count": 16,
   "metadata": {},
   "outputs": [
    {
     "name": "stdout",
     "output_type": "stream",
     "text": [
      "These are all the datasets: \n",
      " [<edp.base.objects.dataset.result_object.FreqModelResult object at 0x10b9bbe48>\n",
      " <edp.base.objects.dataset.result_object.FreqModelResult object at 0x1c22268588>\n",
      " <edp.base.objects.dataset.result_object.FreqModelResult object at 0x10e19e9e8>\n",
      " <edp.base.objects.dataset.result_object.FreqModelResult object at 0x1c2211fd30>\n",
      " <edp.base.objects.dataset.result_object.FreqModelResult object at 0x10b9949b0>\n",
      " <edp.base.objects.dataset.result_object.FreqModelResult object at 0x1c21b1a128>]\n"
     ]
    }
   ],
   "source": [
    "print(\"These are all the datasets: \\n\", centerloader.get_results())"
   ]
  },
  {
   "cell_type": "code",
   "execution_count": 17,
   "metadata": {},
   "outputs": [
    {
     "name": "stdout",
     "output_type": "stream",
     "text": [
      "200.0 1000\n"
     ]
    }
   ],
   "source": [
    "testdataset = centerloader.get_results()[0]\n",
    "testdataset.compute_montage_groups()\n",
    "\n",
    "print(testdataset.samplerate, testdataset.winsize)"
   ]
  },
  {
   "cell_type": "code",
   "execution_count": 32,
   "metadata": {},
   "outputs": [
    {
     "name": "stdout",
     "output_type": "stream",
     "text": [
      "[0.       0.024975]\n",
      "24200\n",
      "2.5\n",
      "31.25 62.5\n"
     ]
    }
   ],
   "source": [
    "print(timepoints[0,:]/200.)\n",
    "print(121*200)\n",
    "\n",
    "print(500/200)\n",
    "\n",
    "print(25*1.25, 50*1.25)"
   ]
  },
  {
   "cell_type": "code",
   "execution_count": 30,
   "metadata": {},
   "outputs": [
    {
     "name": "stdout",
     "output_type": "stream",
     "text": [
      "47\n",
      "(39, 501, 143)\n",
      "(143, 2)\n",
      "[117.5   122.495]\n",
      "[205.    209.995]\n"
     ]
    }
   ],
   "source": [
    "print(testdataset.onsetwin)\n",
    "print(testdataset.shape)\n",
    "timepoints = testdataset.samplepoints / testdataset.samplerate\n",
    "\n",
    "print(timepoints.shape)\n",
    "print(timepoints[testdataset.onsetwin,:])\n",
    "print(timepoints[testdataset.onsetwin+35,:])"
   ]
  },
  {
   "cell_type": "code",
   "execution_count": 18,
   "metadata": {},
   "outputs": [
    {
     "name": "stdout",
     "output_type": "stream",
     "text": [
      "[20, 24, 25, 4, 5, 13, 15, 17]\n",
      "['right-temporal', 'right-parietal']\n"
     ]
    }
   ],
   "source": [
    "print(testdataset.cezlobeinds)\n",
    "print(testdataset.cezlobe)"
   ]
  },
  {
   "cell_type": "markdown",
   "metadata": {},
   "source": [
    "### Patient"
   ]
  },
  {
   "cell_type": "code",
   "execution_count": 6,
   "metadata": {},
   "outputs": [
    {
     "name": "stdout",
     "output_type": "stream",
     "text": [
      "Already renamed seeg.xyz\n",
      "Already renamed gain.mat\n",
      "Found 6 jsonfilepaths for la04\n",
      "Loading results data from:  /Users/adam2392/Downloads/output_new/fragility/common_avg/scalp/cleveland/la04_scalp_sz_1p_fragmodel.npz\n",
      "Loading results data from:  /Users/adam2392/Downloads/output_new/fragility/common_avg/scalp/cleveland/la04_scalp_sz_2p_fragmodel.npz\n",
      "Loading results data from:  /Users/adam2392/Downloads/output_new/fragility/common_avg/scalp/cleveland/la04_scalp_sz_3p_fragmodel.npz\n",
      "Loading results data from:  /Users/adam2392/Downloads/output_new/fragility/common_avg/scalp/cleveland/la04_scalp_sz_4p_fragmodel.npz\n",
      "Loading results data from:  /Users/adam2392/Downloads/output_new/fragility/common_avg/scalp/cleveland/la04_scalp_sz_5p_fragmodel.npz\n",
      "Loading results data from:  /Users/adam2392/Downloads/output_new/fragility/common_avg/scalp/cleveland/la04_scalp_sz_6p_fragmodel.npz\n",
      "Finished loading in data for this patient\n"
     ]
    }
   ],
   "source": [
    "patientloader = SubjectResultsLoader(subjid=allpats[0],\n",
    "                            preload=True,\n",
    "                            datatype='frag',\n",
    "                            root_dir=resultsdir)\n",
    "\n",
    "print(\"Finished loading in data for this patient\")"
   ]
  },
  {
   "cell_type": "code",
   "execution_count": 7,
   "metadata": {},
   "outputs": [
    {
     "name": "stdout",
     "output_type": "stream",
     "text": [
      "These are all the datasets: \n",
      " [la04 scalp_sz_1p Fragility Model (39, 570), la04 scalp_sz_2p Fragility Model (39, 1151), la04 scalp_sz_3p Fragility Model (54, 1151), la04 scalp_sz_4p Fragility Model (54, 439), la04 scalp_sz_5p Fragility Model (53, 1019), la04 scalp_sz_6p Fragility Model (53, 1151)]\n"
     ]
    }
   ],
   "source": [
    "print(\"These are all the datasets: \\n\", patientloader.get_results())"
   ]
  },
  {
   "cell_type": "markdown",
   "metadata": {},
   "source": [
    "### Dataset"
   ]
  },
  {
   "cell_type": "code",
   "execution_count": 19,
   "metadata": {},
   "outputs": [
    {
     "name": "stdout",
     "output_type": "stream",
     "text": [
      "Loading results data from:  /Users/adam2392/Downloads/output_new/fragility/common_avg/scalp/cleveland/la04_scalp_sz_6p_fragmodel.npz\n",
      "Finished loading in data for this patient\n"
     ]
    }
   ],
   "source": [
    "\n",
    "datasetloader = ResultLoader(jsonfilepath=os.path.join(resultsdir, 'la04_scalp_sz_6p_frag.json'),\n",
    "                            preload=True,\n",
    "                            datatype='frag',\n",
    "                            results_dir=resultsdir)\n",
    "\n",
    "print(\"Finished loading in data for this patient\")"
   ]
  },
  {
   "cell_type": "code",
   "execution_count": 21,
   "metadata": {},
   "outputs": [
    {
     "name": "stdout",
     "output_type": "stream",
     "text": [
      "These are all the datasets: \n",
      " la04 scalp_sz_6p Fragility Model (53, 1151)\n"
     ]
    }
   ],
   "source": [
    "print(\"These are all the datasets: \\n\", datasetloader.result)"
   ]
  },
  {
   "cell_type": "markdown",
   "metadata": {},
   "source": [
    "# 2. Using the Data\n",
    "\n",
    "Note that the datasets are organized in python classes, so each result loaded is a list of these FragilityModelResult classes. See /edp/base/objects/dataset/result_object.py\n",
    "\n",
    "This class helps user to extract out metadata and reformat data correctly.\n",
    "\n",
    "Note for scalp data, cezinds returns an empty list, while for ieeg, cezlobeinds will return an empty list."
   ]
  },
  {
   "cell_type": "code",
   "execution_count": 7,
   "metadata": {},
   "outputs": [
    {
     "name": "stdout",
     "output_type": "stream",
     "text": [
      "pt1 sz_1 Fragility Model (27, 943)\n"
     ]
    }
   ],
   "source": [
    "exdataset = centerloader.get_results()[0]\n",
    "print(exdataset)\n",
    "\n",
    "# compute how to separate channels into their lobes\n",
    "exdataset.compute_montage_groups()"
   ]
  },
  {
   "cell_type": "code",
   "execution_count": 8,
   "metadata": {},
   "outputs": [
    {
     "name": "stdout",
     "output_type": "stream",
     "text": [
      "(27, 943) 27\n",
      "[] ['right-temporal', 'right-parietal'] [] [20, 24, 25, 4, 5, 13, 15, 17]\n"
     ]
    }
   ],
   "source": [
    "# get the fragility matrix\n",
    "fragmat = exdataset.get_data()\n",
    "\n",
    "# get the corresponding channels labels\n",
    "chanlabels = exdataset.chanlabels\n",
    "\n",
    "# get ieeg ez\n",
    "cezcontacts = exdataset.cezcontacts\n",
    "\n",
    "# get lobe\n",
    "cezlobe = exdataset.cezlobe\n",
    "\n",
    "# get indices of ieeg cez\n",
    "ieegcezinds = exdataset.cezinds\n",
    "cezinds = exdataset.cezlobeinds\n",
    "\n",
    "print(fragmat.shape, len(chanlabels))\n",
    "\n",
    "print(cezcontacts, cezlobe, ieegcezinds, cezinds)"
   ]
  },
  {
   "cell_type": "markdown",
   "metadata": {},
   "source": [
    "# 3. Quick and Dirty Visualization"
   ]
  },
  {
   "cell_type": "code",
   "execution_count": 10,
   "metadata": {},
   "outputs": [
    {
     "data": {
      "image/png": "[encoded data removed]",
      "text/plain": [
       "<Figure size 720x720 with 2 Axes>"
      ]
     },
     "metadata": {},
     "output_type": "display_data"
    }
   ],
   "source": [
    "sns.set(font_scale=1.5)\n",
    "fig, ax = plt.subplots(1,1, figsize=(10,10))\n",
    "sns.heatmap(fragmat, cmap='jet', yticklabels=chanlabels)\n",
    "fig.tight_layout()"
   ]
  },
  {
   "cell_type": "code",
   "execution_count": 15,
   "metadata": {},
   "outputs": [
    {
     "data": {
      "text/plain": [
       "599"
      ]
     },
     "execution_count": 15,
     "metadata": {},
     "output_type": "execute_result"
    }
   ],
   "source": [
    "timerangesearch = [0, 10, 100, ...]\n",
    "\n",
    "# defining a window around onset window\n",
    "for t in timerangesearch:\n",
    "    start = onsetwin - t\n",
    "    end = onsetwin + t\n",
    "    \n",
    "    # get all the channels and the window you define\n",
    "    pat[:,start:end]\n",
    "    \n",
    "    # run algo to do what we need\n",
    "    \n",
    "    "
   ]
  },
  {
   "cell_type": "code",
   "execution_count": 14,
   "metadata": {},
   "outputs": [
    {
     "name": "stdout",
     "output_type": "stream",
     "text": [
      "pt1 sz_2 Fragility Model (27, 1535) 30000.0 599 200.0\n",
      "dict_keys(['ablated_contacts', 'age_surgery', 'bad_channels', 'cezlobe', 'chanlabels', 'channeltypes', 'clinical_center', 'clinical_difficulty', 'clinical_match', 'dataset_id', 'date_of_recording', 'engel_score', 'equipment', 'events', 'ez_elecs', 'ez_hypo_brainregion', 'filename', 'gender', 'hand_dominant', 'highpass_freq', 'length_of_recording', 'linefreq', 'lowpass_freq', 'modality', 'montage', 'non_eeg_channels', 'note', 'number_chans', 'numwins', 'offsetind', 'offsetsec', 'onset', 'onset_age', 'onsetind', 'onsetsec', 'outcome', 'patient_id', 'perturbtype', 'radius', 'reference', 'resect_elecs', 'resected_contacts', 'resultfilename', 'samplepoints', 'samplerate', 'stabilizeflag', 'stepsize', 'termination', 'type', 'winsize', 'onsetwin', 'offsetwin'])\n",
      "[['0.0', '0', '+0.000000'],\n",
      " ['0.0', '0', 'Segment: REC START LTM+6 EEG'],\n",
      " ['0.0', '0', 'A1+A2 OFF'],\n",
      " ['125.0', '0', '+125.000000'],\n",
      " ['125.0', '0', 'Spike P7-aT5 1.00'],\n",
      " ['150.0', '0', '+150.000000'],\n",
      " ['150.0', '0', 'onset'],\n",
      " ['150.0', '0', 'P10, P8, T8 rhythmic'],\n",
      " ['153.0', '0', '+153.000000'],\n",
      " ['153.0', '0', 'Fp2, F4 high amp del'],\n",
      " ['155.0', '0', '+155.000000'],\n",
      " ['155.0', '0', 'Lward head turning'],\n",
      " ['159.0', '0', '+159.000000'],\n",
      " ['159.0', '0', 'L arm dystonic, R ar'],\n",
      " ['160.0', '0', '+160.000000'],\n",
      " ['160.0', '0', 'R ant temp RTA'],\n",
      " ['164.0', '0', '+164.000000'],\n",
      " ['164.0', '0', '@SeizureDetected(Per'],\n",
      " ['179.0', '0', '+179.000000'],\n",
      " ['179.0', '0', 'looks limp all over'],\n",
      " ['194.0', '0', '+194.000000'],\n",
      " ['194.0', '0', 'Spike PZ-aPz 1.00'],\n",
      " ['211.0', '0', '+211.000000'],\n",
      " ['211.0', '0', 'Spike P4-aP4 1.00'],\n",
      " ['219.0', '0', '+219.000000'],\n",
      " ['219.0', '0', 'offset'],\n",
      " ['354.0', '0', '+354.000000'],\n",
      " ['354.0', '0', 'remembers having aur'],\n",
      " ['365.0', '0', '+365.000000'],\n",
      " ['365.0', '0', 'not moving L hand st']]\n"
     ]
    }
   ],
   "source": [
    "for pat in centerloader.get_results()[1:]:\n",
    "    print(pat, pat.onsetind, pat.onsetwin, pat.samplerate)\n",
    "    \n",
    "    metadata = pat.get_metadata()\n",
    "    testonsetwin = pat.onsetwin\n",
    "    print(metadata.keys())\n",
    "    \n",
    "    pprint(metadata['events'])\n",
    "    break"
   ]
  },
  {
   "cell_type": "code",
   "execution_count": null,
   "metadata": {},
   "outputs": [],
   "source": []
  }
 ],
 "metadata": {
  "kernelspec": {
   "display_name": "eztrack",
   "language": "python",
   "name": "eztrack"
  },
  "language_info": {
   "codemirror_mode": {
    "name": "ipython",
    "version": 3
   },
   "file_extension": ".py",
   "mimetype": "text/x-python",
   "name": "python",
   "nbconvert_exporter": "python",
   "pygments_lexer": "ipython3",
   "version": "3.6.7"
  }
 },
 "nbformat": 4,
 "nbformat_minor": 2
}
